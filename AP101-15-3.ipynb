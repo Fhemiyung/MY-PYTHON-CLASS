{
  "nbformat": 4,
  "nbformat_minor": 0,
  "metadata": {
    "colab": {
      "provenance": []
    },
    "kernelspec": {
      "name": "python3",
      "display_name": "Python 3"
    },
    "language_info": {
      "name": "python"
    }
  },
  "cells": [
    {
      "cell_type": "code",
      "source": [
        "def count_odd_numbers(numbers):\n",
        "    odd_count = 0\n",
        "    for num in numbers:\n",
        "        if num % 2 != 0:\n",
        "            odd_count += 1\n",
        "    return odd_count\n",
        "\n",
        "numbers_list = [1,2,3,4,5,6,7,8,9,10]\n",
        "result = count_odd_numbers(numbers_list)\n",
        "print(f\"The number of odd numbers in the list is: {result}\")"
      ],
      "metadata": {
        "colab": {
          "base_uri": "https://localhost:8080/"
        },
        "id": "FKjf9jeEv0IO",
        "outputId": "08479ee0-8d5b-4a70-c2b5-d8210d440ceb"
      },
      "execution_count": 3,
      "outputs": [
        {
          "output_type": "stream",
          "name": "stdout",
          "text": [
            "The number of odd numbers in the list is: 5\n"
          ]
        }
      ]
    },
    {
      "cell_type": "code",
      "source": [],
      "metadata": {
        "id": "HQMxJeYdj-od"
      },
      "execution_count": null,
      "outputs": []
    }
  ]
}
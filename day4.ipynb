{
 "cells": [
  {
   "cell_type": "code",
   "execution_count": 1,
   "id": "f235ff96",
   "metadata": {},
   "outputs": [
    {
     "name": "stdout",
     "output_type": "stream",
     "text": [
      "Ben\n"
     ]
    }
   ],
   "source": [
    "records = {\n",
    "     'Name':'Ben',\n",
    "      'Age': 15\n",
    "}\n",
    "print(records['Name'])"
   ]
  },
  {
   "cell_type": "code",
   "execution_count": 2,
   "id": "cd13ce3d",
   "metadata": {},
   "outputs": [
    {
     "name": "stdout",
     "output_type": "stream",
     "text": [
      "dict_keys(['Name', 'Age'])\n"
     ]
    }
   ],
   "source": [
    "print(records.keys())"
   ]
  },
  {
   "cell_type": "code",
   "execution_count": 3,
   "id": "b51c3c02",
   "metadata": {},
   "outputs": [
    {
     "name": "stdout",
     "output_type": "stream",
     "text": [
      "dict_values(['Ben', 15])\n"
     ]
    }
   ],
   "source": [
    "print(records.values())"
   ]
  },
  {
   "cell_type": "code",
   "execution_count": 4,
   "id": "54a46f38",
   "metadata": {},
   "outputs": [
    {
     "name": "stdout",
     "output_type": "stream",
     "text": [
      "dict_items([('Name', 'Ben'), ('Age', 15)])\n"
     ]
    }
   ],
   "source": [
    "print(records.items())"
   ]
  },
  {
   "cell_type": "code",
   "execution_count": 5,
   "id": "8c006ab6",
   "metadata": {},
   "outputs": [
    {
     "name": "stdout",
     "output_type": "stream",
     "text": [
      "{'Name': 'Ben', 'Age': 15, 'Gender': 'Male'}\n"
     ]
    }
   ],
   "source": [
    "records['Gender'] = 'Male'\n",
    "print(records)"
   ]
  },
  {
   "cell_type": "code",
   "execution_count": 7,
   "id": "ecfc21f8",
   "metadata": {},
   "outputs": [
    {
     "name": "stdout",
     "output_type": "stream",
     "text": [
      "{'Name': 'Ben', 'Age': 15, 'Gender': 'Male', 'Height': 1.96}\n"
     ]
    }
   ],
   "source": [
    "records.update({'Height':1.96})\n",
    "print(records)"
   ]
  },
  {
   "cell_type": "code",
   "execution_count": 8,
   "id": "ee65fbef",
   "metadata": {},
   "outputs": [
    {
     "name": "stdout",
     "output_type": "stream",
     "text": [
      "{'Name': 'Ben', 'Age': 15, 'Gender': 'Male', 'Height': 1.96}\n"
     ]
    }
   ],
   "source": [
    "records.update({'Age':15})\n",
    "print(records)"
   ]
  },
  {
   "cell_type": "code",
   "execution_count": 10,
   "id": "b8233363",
   "metadata": {},
   "outputs": [
    {
     "name": "stdout",
     "output_type": "stream",
     "text": [
      "{'Name': 'Ben', 'Age': 15, 'Gender': 'Male'}\n"
     ]
    }
   ],
   "source": [
    "records.popitem()\n",
    "print(records)"
   ]
  },
  {
   "cell_type": "code",
   "execution_count": 11,
   "id": "d40865e9",
   "metadata": {},
   "outputs": [
    {
     "name": "stdout",
     "output_type": "stream",
     "text": [
      "{'Name': 'Ben', 'Gender': 'Male'}\n"
     ]
    }
   ],
   "source": [
    "records.pop('Age')\n",
    "print(records)"
   ]
  },
  {
   "cell_type": "code",
   "execution_count": 12,
   "id": "f24d941e",
   "metadata": {},
   "outputs": [
    {
     "name": "stdout",
     "output_type": "stream",
     "text": [
      "{'Gender': 'Male'}\n"
     ]
    }
   ],
   "source": [
    "records.pop('Name')\n",
    "print(records)"
   ]
  },
  {
   "cell_type": "code",
   "execution_count": 13,
   "id": "2b8fb810",
   "metadata": {},
   "outputs": [
    {
     "name": "stdout",
     "output_type": "stream",
     "text": [
      "['__doc__', '__loader__', '__name__', '__package__', '__spec__', 'acos', 'acosh', 'asin', 'asinh', 'atan', 'atan2', 'atanh', 'cbrt', 'ceil', 'comb', 'copysign', 'cos', 'cosh', 'degrees', 'dist', 'e', 'erf', 'erfc', 'exp', 'exp2', 'expm1', 'fabs', 'factorial', 'floor', 'fmod', 'frexp', 'fsum', 'gamma', 'gcd', 'hypot', 'inf', 'isclose', 'isfinite', 'isinf', 'isnan', 'isqrt', 'lcm', 'ldexp', 'lgamma', 'log', 'log10', 'log1p', 'log2', 'modf', 'nan', 'nextafter', 'perm', 'pi', 'pow', 'prod', 'radians', 'remainder', 'sin', 'sinh', 'sqrt', 'tan', 'tanh', 'tau', 'trunc', 'ulp']\n"
     ]
    }
   ],
   "source": [
    "import math\n",
    "print(dir(math))"
   ]
  },
  {
   "cell_type": "code",
   "execution_count": 15,
   "id": "f1dcf5bf",
   "metadata": {},
   "outputs": [
    {
     "name": "stdout",
     "output_type": "stream",
     "text": [
      "17\n",
      "16\n",
      "10395180.252586327\n"
     ]
    }
   ],
   "source": [
    "num = 16.85\n",
    "print(math.ceil(num))\n",
    "print(math.floor(num))\n",
    "print(math.sinh(num))"
   ]
  },
  {
   "cell_type": "code",
   "execution_count": 17,
   "id": "5db6588f",
   "metadata": {},
   "outputs": [
    {
     "name": "stdout",
     "output_type": "stream",
     "text": [
      "['Counter', 'Decimal', 'Fraction', 'LinearRegression', 'NormalDist', 'StatisticsError', '_SQRT2', '__all__', '__annotations__', '__builtins__', '__cached__', '__doc__', '__file__', '__loader__', '__name__', '__package__', '__spec__', '_coerce', '_convert', '_decimal_sqrt_of_frac', '_exact_ratio', '_fail_neg', '_float_sqrt_of_frac', '_integer_sqrt_of_frac_rto', '_isfinite', '_mean_stdev', '_normal_dist_inv_cdf', '_sqrt_bit_width', '_ss', '_sum', 'bisect_left', 'bisect_right', 'correlation', 'covariance', 'defaultdict', 'erf', 'exp', 'fabs', 'fmean', 'fsum', 'geometric_mean', 'groupby', 'harmonic_mean', 'hypot', 'linear_regression', 'log', 'math', 'mean', 'median', 'median_grouped', 'median_high', 'median_low', 'mode', 'mul', 'multimode', 'namedtuple', 'numbers', 'pstdev', 'pvariance', 'quantiles', 'random', 'reduce', 'repeat', 'sqrt', 'stdev', 'sys', 'tau', 'variance']\n"
     ]
    }
   ],
   "source": [
    "import statistics as stat\n",
    "print(dir(stat))"
   ]
  },
  {
   "cell_type": "code",
   "execution_count": 19,
   "id": "6db472c6",
   "metadata": {},
   "outputs": [
    {
     "name": "stdout",
     "output_type": "stream",
     "text": [
      "82.28571428571429\n",
      "78\n",
      "189.9047619047619\n"
     ]
    }
   ],
   "source": [
    "score = [78,98,90,58,78,96,78]\n",
    "print(stat.mean(score))\n",
    "print(stat.median(score))\n",
    "print(stat.variance(score))"
   ]
  },
  {
   "cell_type": "code",
   "execution_count": 20,
   "id": "4c2a0b3b",
   "metadata": {},
   "outputs": [
    {
     "name": "stdout",
     "output_type": "stream",
     "text": [
      "['BPF', 'LOG4', 'NV_MAGICCONST', 'RECIP_BPF', 'Random', 'SG_MAGICCONST', 'SystemRandom', 'TWOPI', '_ONE', '_Sequence', '_Set', '__all__', '__builtins__', '__cached__', '__doc__', '__file__', '__loader__', '__name__', '__package__', '__spec__', '_accumulate', '_acos', '_bisect', '_ceil', '_cos', '_e', '_exp', '_floor', '_index', '_inst', '_isfinite', '_log', '_os', '_pi', '_random', '_repeat', '_sha512', '_sin', '_sqrt', '_test', '_test_generator', '_urandom', '_warn', 'betavariate', 'choice', 'choices', 'expovariate', 'gammavariate', 'gauss', 'getrandbits', 'getstate', 'lognormvariate', 'normalvariate', 'paretovariate', 'randbytes', 'randint', 'random', 'randrange', 'sample', 'seed', 'setstate', 'shuffle', 'triangular', 'uniform', 'vonmisesvariate', 'weibullvariate']\n"
     ]
    }
   ],
   "source": [
    "import random as rn\n",
    "print(dir(rn))"
   ]
  },
  {
   "cell_type": "code",
   "execution_count": 21,
   "id": "e0853385",
   "metadata": {},
   "outputs": [
    {
     "name": "stdout",
     "output_type": "stream",
     "text": [
      "[98, 78, 90, 96, 78, 58, 78]\n"
     ]
    }
   ],
   "source": [
    "rn.shuffle(score)\n",
    "print(score)"
   ]
  },
  {
   "cell_type": "code",
   "execution_count": 23,
   "id": "efa5910e",
   "metadata": {},
   "outputs": [
    {
     "data": {
      "text/plain": [
       "96"
      ]
     },
     "execution_count": 23,
     "metadata": {},
     "output_type": "execute_result"
    }
   ],
   "source": [
    "rn.choice(score)"
   ]
  },
  {
   "cell_type": "code",
   "execution_count": 25,
   "id": "4e7f7ac8",
   "metadata": {},
   "outputs": [
    {
     "data": {
      "text/plain": [
       "43"
      ]
     },
     "execution_count": 25,
     "metadata": {},
     "output_type": "execute_result"
    }
   ],
   "source": [
    "rn.randint(14,80)"
   ]
  },
  {
   "cell_type": "code",
   "execution_count": 34,
   "id": "1bc60e5c",
   "metadata": {},
   "outputs": [
    {
     "name": "stdout",
     "output_type": "stream",
     "text": [
      "Enter Customer Bill:4000\n",
      "Sorry Buy more to have a discount or try again later\n"
     ]
    }
   ],
   "source": [
    "customer_bill = float(input('Enter Customer Bill:'))\n",
    "default_price = 5000\n",
    "if customer_bill > default_price:\n",
    "   print(f'Congratulations you have won 5%')  \n",
    "else:\n",
    "    print(f'Sorry Buy more to have a discount or try again later')\n"
   ]
  },
  {
   "cell_type": "code",
   "execution_count": 36,
   "id": "902e4287",
   "metadata": {},
   "outputs": [
    {
     "name": "stdout",
     "output_type": "stream",
     "text": [
      "WELCOME TO MJ PLAZA\n",
      "_________________FLOORS___________________\n",
      "1. [SPA AND EARLYCODE]\n",
      "2. [SALOON AND GAMING SHOP]\n",
      "3. [LOUNGE AND RESTAURANT]\n",
      "4.GROUND FLOOR\n",
      "\n",
      "Enter the bottom number to your desired floor1\n",
      "Enter 1 for SPA and 2 for EARLYCODE:2\n",
      "EARLYCODE is on the right\n"
     ]
    }
   ],
   "source": [
    "print('WELCOME TO MJ PLAZA')\n",
    "print('''_________________FLOORS___________________\n",
    "1. [SPA AND EARLYCODE]\n",
    "2. [SALOON AND GAMING SHOP]\n",
    "3. [LOUNGE AND RESTAURANT]\n",
    "4.GROUND FLOOR\n",
    "''')\n",
    "users_option = input('Enter the bottom number to your desired floor')\n",
    "if users_option == '1':\n",
    "    option = input('Enter 1 for SPA and 2 for EARLYCODE:')\n",
    "    if option == '1':\n",
    "        print('SPA is on the left')\n",
    "    elif option == '2':\n",
    "        print('EARLYCODE is on the right')\n",
    "elif users_option == '2':\n",
    "    option = input('Enter 1 for SALOON and 2 for GAMMING SHOP:')\n",
    "    if option == '1':\n",
    "        print('SALOON is on the left')\n",
    "    elif option == '2':\n",
    "        print('GAMMING SHOP is on the right')\n",
    "elif users_option == '3':\n",
    "    option = input('Enter 1 for LOUNGE and 2 for RESTAURANT:')\n",
    "    if option == '1':\n",
    "        print('LOUNGE is on the left')\n",
    "    elif option == '2':\n",
    "        print('RESTAURANT is on the right')\n",
    "                  \n",
    "elif users_option == '4':\n",
    "   print('POM POM GROUND FLOOR')\n",
    "                  \n",
    "                   \n",
    "            "
   ]
  },
  {
   "cell_type": "code",
   "execution_count": null,
   "id": "4668154e",
   "metadata": {},
   "outputs": [],
   "source": []
  }
 ],
 "metadata": {
  "kernelspec": {
   "display_name": "Python 3 (ipykernel)",
   "language": "python",
   "name": "python3"
  },
  "language_info": {
   "codemirror_mode": {
    "name": "ipython",
    "version": 3
   },
   "file_extension": ".py",
   "mimetype": "text/x-python",
   "name": "python",
   "nbconvert_exporter": "python",
   "pygments_lexer": "ipython3",
   "version": "3.11.4"
  }
 },
 "nbformat": 4,
 "nbformat_minor": 5
}

{
  "nbformat": 4,
  "nbformat_minor": 0,
  "metadata": {
    "colab": {
      "provenance": []
    },
    "kernelspec": {
      "name": "python3",
      "display_name": "Python 3"
    },
    "language_info": {
      "name": "python"
    }
  },
  "cells": [
    {
      "cell_type": "code",
      "source": [
        "def find_common_elements(list1, list2):\n",
        "    common_elements = [value for value in list1 if value in list2]\n",
        "    return common_elements\n",
        "\n",
        "list_a = [2,5,6,8,3,9]\n",
        "list_b = [4,6,9,5,8,3]\n",
        "result = find_common_elements(list_a, list_b)\n",
        "print(f\"The common elements between the two lists are: {result}\")"
      ],
      "metadata": {
        "colab": {
          "base_uri": "https://localhost:8080/"
        },
        "id": "FKjf9jeEv0IO",
        "outputId": "5ff0d138-76ae-4668-aa2a-6583e236c94b"
      },
      "execution_count": 4,
      "outputs": [
        {
          "output_type": "stream",
          "name": "stdout",
          "text": [
            "The common elements between the two lists are: [5, 6, 8, 3, 9]\n"
          ]
        }
      ]
    },
    {
      "cell_type": "code",
      "source": [],
      "metadata": {
        "id": "JQK9On59o0V8"
      },
      "execution_count": null,
      "outputs": []
    }
  ]
}
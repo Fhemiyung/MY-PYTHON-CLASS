{
  "nbformat": 4,
  "nbformat_minor": 0,
  "metadata": {
    "colab": {
      "provenance": []
    },
    "kernelspec": {
      "name": "python3",
      "display_name": "Python 3"
    },
    "language_info": {
      "name": "python"
    }
  },
  "cells": [
    {
      "cell_type": "code",
      "source": [
        "def find_largest_number(numbers):\n",
        "    if not numbers:\n",
        "        return \"List is empty.\"\n",
        "\n",
        "    max_number = numbers[0]\n",
        "    for num in numbers[1:]:\n",
        "        if num > max_number:\n",
        "            max_number = num\n",
        "    return max_number\n",
        "\n",
        "numbers_list = [3,8,6,10,7,9]\n",
        "\n",
        "result = find_largest_number(numbers_list)\n",
        "print(f\"The largest number in the list is: {result}\")"
      ],
      "metadata": {
        "colab": {
          "base_uri": "https://localhost:8080/"
        },
        "id": "FKjf9jeEv0IO",
        "outputId": "55c43c1d-4aac-4b58-ad31-25869cc872b2"
      },
      "execution_count": 5,
      "outputs": [
        {
          "output_type": "stream",
          "name": "stdout",
          "text": [
            "The largest number in the list is: 10\n"
          ]
        }
      ]
    },
    {
      "cell_type": "code",
      "source": [],
      "metadata": {
        "id": "wU_mzQbIryVc"
      },
      "execution_count": null,
      "outputs": []
    }
  ]
}
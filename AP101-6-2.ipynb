{
  "nbformat": 4,
  "nbformat_minor": 0,
  "metadata": {
    "colab": {
      "provenance": []
    },
    "kernelspec": {
      "name": "python3",
      "display_name": "Python 3"
    },
    "language_info": {
      "name": "python"
    }
  },
  "cells": [
    {
      "cell_type": "code",
      "source": [
        "def calculate_average(numbers):\n",
        "    if not numbers:\n",
        "      return None\n",
        "\n",
        "    total_sum = sum(numbers)\n",
        "    average = total_sum / len(numbers)\n",
        "    return average\n",
        "\n",
        "integer_set = [12,25,10,16,22,19]\n",
        "result = calculate_average(integer_set)\n",
        "\n",
        "\n",
        "if result is not None:\n",
        "    print(f\"The average is: {result}\")\n",
        "else:\n",
        "    print(f\"The list is empty.\")\n"
      ],
      "metadata": {
        "id": "PP6MYYcXbCP5",
        "colab": {
          "base_uri": "https://localhost:8080/"
        },
        "outputId": "f14e948d-cf74-4502-c16f-2c051c83bee2"
      },
      "execution_count": 3,
      "outputs": [
        {
          "output_type": "stream",
          "name": "stdout",
          "text": [
            "The average is: 17.333333333333332\n"
          ]
        }
      ]
    },
    {
      "cell_type": "code",
      "source": [],
      "metadata": {
        "id": "kz__GDQkgpk9"
      },
      "execution_count": null,
      "outputs": []
    }
  ]
}
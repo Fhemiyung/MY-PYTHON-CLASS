{
  "nbformat": 4,
  "nbformat_minor": 0,
  "metadata": {
    "colab": {
      "provenance": []
    },
    "kernelspec": {
      "name": "python3",
      "display_name": "Python 3"
    },
    "language_info": {
      "name": "python"
    }
  },
  "cells": [
    {
      "cell_type": "code",
      "source": [
        "def get_century(year):\n",
        "    if year <= 0:\n",
        "        return \"Please enter a valid year greater than 0\"\n",
        "    elif year <= 100:\n",
        "        return 1\n",
        "    elif year % 100 == 0:\n",
        "        return year // 100 + 1\n",
        "    else:\n",
        "        return year // 100 + 1\n",
        "year_input = 2020\n",
        "century_result = get_century(year_input)\n",
        "print(f\"The year {year_input} belongs to the {century_result}.\")\n"
      ],
      "metadata": {
        "colab": {
          "base_uri": "https://localhost:8080/"
        },
        "id": "FKjf9jeEv0IO",
        "outputId": "8e2273b1-e2cf-4a03-cc77-69a21a4dd8a5"
      },
      "execution_count": 21,
      "outputs": [
        {
          "output_type": "stream",
          "name": "stdout",
          "text": [
            "The year 2020 belongs to the 21.\n"
          ]
        }
      ]
    },
    {
      "cell_type": "code",
      "source": [],
      "metadata": {
        "id": "qO3hdYT90VUI"
      },
      "execution_count": null,
      "outputs": []
    }
  ]
}
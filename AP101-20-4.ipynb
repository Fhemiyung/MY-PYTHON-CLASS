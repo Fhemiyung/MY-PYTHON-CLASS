{
  "nbformat": 4,
  "nbformat_minor": 0,
  "metadata": {
    "colab": {
      "provenance": []
    },
    "kernelspec": {
      "name": "python3",
      "display_name": "Python 3"
    },
    "language_info": {
      "name": "python"
    }
  },
  "cells": [
    {
      "cell_type": "code",
      "source": [
        "import pandas as pd\n",
        "\n",
        "df = pd.read_csv('')\n",
        "grouped_data = df.groupby(['JobRole', 'JobLevel'])\n",
        "average_years = grouped_data['YearsAtCompany'].mean()\n",
        "print(average_years)"
      ],
      "metadata": {
        "id": "JgQtYCQHlTBC"
      },
      "execution_count": null,
      "outputs": []
    },
    {
      "cell_type": "code",
      "source": [],
      "metadata": {
        "id": "pHHt75kps5XR"
      },
      "execution_count": null,
      "outputs": []
    }
  ]
}
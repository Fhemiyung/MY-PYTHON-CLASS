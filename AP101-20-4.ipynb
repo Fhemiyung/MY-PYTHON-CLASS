{
  "nbformat": 4,
  "nbformat_minor": 0,
  "metadata": {
    "colab": {
      "provenance": []
    },
    "kernelspec": {
      "name": "python3",
      "display_name": "Python 3"
    },
    "language_info": {
      "name": "python"
    }
  },
  "cells": [
    {
      "cell_type": "code",
      "execution_count": 1,
      "metadata": {
        "colab": {
          "base_uri": "https://localhost:8080/"
        },
        "id": "xU3FIG4F10VP",
        "outputId": "e2a7fb7f-23c3-4175-84a5-ebf955315527"
      },
      "outputs": [
        {
          "output_type": "stream",
          "name": "stdout",
          "text": [
            "Enter the value of N: 10\n",
            "The 10th term in the Fibonacci series is: 55\n"
          ]
        }
      ],
      "source": [
        "def fibonacci(n):\n",
        "    if n <= 1:\n",
        "        return n\n",
        "    else:\n",
        "        return fibonacci(n-1) + fibonacci(n-2)\n",
        "\n",
        "n = int(input(\"Enter the value of N: \"))\n",
        "\n",
        "if n < 0:\n",
        "        print(\"Please enter a non-negative integer.\")\n",
        "else:\n",
        "        result = fibonacci(n)\n",
        "        print(f\"The {n}th term in the Fibonacci series is: {result}\")"
      ]
    },
    {
      "cell_type": "code",
      "source": [],
      "metadata": {
        "id": "Wbfb7ZVT_g3V"
      },
      "execution_count": null,
      "outputs": []
    },
    {
      "cell_type": "code",
      "source": [],
      "metadata": {
        "id": "9spGJ-Nrt0IB"
      },
      "execution_count": null,
      "outputs": []
    },
    {
      "cell_type": "code",
      "source": [],
      "metadata": {
        "id": "NZW48PF650Gq"
      },
      "execution_count": null,
      "outputs": []
    },
    {
      "cell_type": "code",
      "source": [],
      "metadata": {
        "id": "rQHY2BA9_Tuz"
      },
      "execution_count": null,
      "outputs": []
    }
  ]
}
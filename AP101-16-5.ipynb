{
  "nbformat": 4,
  "nbformat_minor": 0,
  "metadata": {
    "colab": {
      "provenance": []
    },
    "kernelspec": {
      "name": "python3",
      "display_name": "Python 3"
    },
    "language_info": {
      "name": "python"
    }
  },
  "cells": [
    {
      "cell_type": "code",
      "source": [
        "def is_palindrome(s):\n",
        "    cleaned_string = ''.join(s.split()).lower()\n",
        "    return cleaned_string == cleaned_string[::-1]\n",
        "\n",
        "user_input = input(\"Enter a string: \")\n",
        "if is_palindrome(user_input):\n",
        "    print(\"The given string is a palindrome.\")\n",
        "else:\n",
        "    print(\"The given string is not a palindrome.\")"
      ],
      "metadata": {
        "colab": {
          "base_uri": "https://localhost:8080/"
        },
        "id": "kz__GDQkgpk9",
        "outputId": "a8b90329-49b4-40ad-a249-e14e5959fed2"
      },
      "execution_count": 4,
      "outputs": [
        {
          "output_type": "stream",
          "name": "stdout",
          "text": [
            "Enter a string: Ten\n",
            "The given string is not a palindrome.\n"
          ]
        }
      ]
    },
    {
      "cell_type": "code",
      "source": [
        "\n"
      ],
      "metadata": {
        "id": "_nvknYNXjw6M"
      },
      "execution_count": null,
      "outputs": []
    }
  ]
}
{
  "nbformat": 4,
  "nbformat_minor": 0,
  "metadata": {
    "colab": {
      "provenance": []
    },
    "kernelspec": {
      "name": "python3",
      "display_name": "Python 3"
    },
    "language_info": {
      "name": "python"
    }
  },
  "cells": [
    {
      "cell_type": "code",
      "source": [
        "import cmath\n",
        "\n",
        "def find_roots(a, b, c):\n",
        "    discriminant = cmath.sqrt(b**2 - 4*a*c)\n",
        "\n",
        "    root1 = (-b + discriminant) / (2*a)\n",
        "    root2 = (-b - discriminant) / (2*a)\n",
        "\n",
        "    return root1, root2\n",
        "\n",
        "a = float(input(\"Enter the coefficient a: \"))\n",
        "b = float(input(\"Enter the coefficient b: \"))\n",
        "c = float(input(\"Enter the coefficient c: \"))\n",
        "\n",
        "roots = find_roots(a, b, c)\n",
        "print(f\"The roots of the quadratic equation are: {roots}\")"
      ],
      "metadata": {
        "colab": {
          "base_uri": "https://localhost:8080/"
        },
        "id": "pHHt75kps5XR",
        "outputId": "0077f4fe-35fe-4e46-ce23-5d61df770912"
      },
      "execution_count": 11,
      "outputs": [
        {
          "output_type": "stream",
          "name": "stdout",
          "text": [
            "Enter the coefficient a: 12\n",
            "Enter the coefficient b: 22\n",
            "Enter the coefficient c: 31\n",
            "The roots of the quadratic equation are: ((-0.9166666666666666+1.3202482931462383j), (-0.9166666666666666-1.3202482931462383j))\n"
          ]
        }
      ]
    },
    {
      "cell_type": "code",
      "source": [],
      "metadata": {
        "id": "FKjf9jeEv0IO"
      },
      "execution_count": null,
      "outputs": []
    }
  ]
}